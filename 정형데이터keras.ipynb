{
 "cells": [
  {
   "cell_type": "code",
   "execution_count": 1,
   "metadata": {},
   "outputs": [
    {
     "name": "stdout",
     "output_type": "stream",
     "text": [
      "   wave  region  family_member  year_born  education_level  marriage  \\\n",
      "0     1       1              1       1936                2         2   \n",
      "1     7       1              1       1936                2         2   \n",
      "2     8       1              1       1936                2         2   \n",
      "3     9       1              1       1936                2         2   \n",
      "4    10       1              1       1936                2         2   \n",
      "\n",
      "   religion  company_size  reason_none_worker  gender  label  income  \n",
      "0         2           NaN                 8.0       1      0   614.0  \n",
      "1         2           NaN                10.0       1      0   896.0  \n",
      "2         2           NaN                10.0       1      0  1310.0  \n",
      "3         2           NaN                 1.0       1      0  2208.0  \n",
      "4         2           NaN                10.0       1      0   864.0  \n"
     ]
    }
   ],
   "source": [
    "import pandas as pd\n",
    "df = pd.read_csv('d:/data/project/project_income.csv')\n",
    "\n",
    "print(df.head())"
   ]
  },
  {
   "cell_type": "code",
   "execution_count": 2,
   "metadata": {},
   "outputs": [],
   "source": [
    "df = df.fillna(0)"
   ]
  },
  {
   "cell_type": "code",
   "execution_count": 3,
   "metadata": {},
   "outputs": [
    {
     "name": "stderr",
     "output_type": "stream",
     "text": [
      "d:\\anaconda\\lib\\site-packages\\seaborn\\_decorators.py:36: FutureWarning: Pass the following variable as a keyword arg: x. From version 0.12, the only valid positional argument will be `data`, and passing other arguments without an explicit keyword will result in an error or misinterpretation.\n",
      "  warnings.warn(\n"
     ]
    },
    {
     "data": {
      "text/plain": [
       "Text(0.5, 1.0, '분류\\n (0:평균이하, 1:평균이상)')"
      ]
     },
     "execution_count": 3,
     "metadata": {},
     "output_type": "execute_result"
    },
    {
     "data": {
      "image/png": "[encoded data removed]",
      "text/plain": [
       "<Figure size 432x288 with 1 Axes>"
      ]
     },
     "metadata": {
      "needs_background": "light"
     },
     "output_type": "display_data"
    }
   ],
   "source": [
    "import seaborn as sns\n",
    "import matplotlib.pyplot as plt\n",
    "from matplotlib import font_manager, rc\n",
    "font_name = font_manager.FontProperties(fname=\"c:/Windows/Fonts/malgun.ttf\").get_name()\n",
    "rc('font', family=font_name)\n",
    "colors = [\"yellow\", \"red\"]\n",
    "sns.countplot('label', data=df, palette=colors)\n",
    "plt.title('분류\\n (0:평균이하, 1:평균이상)', fontsize=14)"
   ]
  },
  {
   "cell_type": "code",
   "execution_count": 4,
   "metadata": {},
   "outputs": [],
   "source": [
    "df = df.drop(columns=['religion'], axis=1)"
   ]
  },
  {
   "cell_type": "code",
   "execution_count": 5,
   "metadata": {},
   "outputs": [],
   "source": [
    "train_cols = df.columns[:-2]\n",
    "X = df[train_cols]\n",
    "y=df['label']\n"
   ]
  },
  {
   "cell_type": "code",
   "execution_count": 6,
   "metadata": {},
   "outputs": [],
   "source": [
    "# import mglearn\n",
    "# pd.plotting.scatter_matrix(df, c=y, figsize=(15, 15),marker='o', cmap=mglearn.cm3)"
   ]
  },
  {
   "cell_type": "code",
   "execution_count": 7,
   "metadata": {},
   "outputs": [],
   "source": [
    "from imblearn.under_sampling import RandomUnderSampler\n",
    "\n",
    "X_sample, y_sample = RandomUnderSampler(random_state=0).fit_resample(X,y)\n",
    "\n",
    "X_samp = pd.DataFrame(data=X_sample,columns=train_cols)\n",
    "y_samp = pd.DataFrame(data=y_sample, columns=['label'])\n",
    "df_samp = pd.concat([X_samp,y_samp],axis=1)"
   ]
  },
  {
   "cell_type": "code",
   "execution_count": 8,
   "metadata": {},
   "outputs": [
    {
     "name": "stderr",
     "output_type": "stream",
     "text": [
      "d:\\anaconda\\lib\\site-packages\\seaborn\\_decorators.py:36: FutureWarning: Pass the following variable as a keyword arg: x. From version 0.12, the only valid positional argument will be `data`, and passing other arguments without an explicit keyword will result in an error or misinterpretation.\n",
      "  warnings.warn(\n"
     ]
    },
    {
     "data": {
      "text/plain": [
       "Text(0.5, 1.0, '분류\\n (0:평균이하, 1:평균이상)')"
      ]
     },
     "execution_count": 8,
     "metadata": {},
     "output_type": "execute_result"
    },
    {
     "data": {
      "image/png": "[encoded data removed]",
      "text/plain": [
       "<Figure size 432x288 with 1 Axes>"
      ]
     },
     "metadata": {
      "needs_background": "light"
     },
     "output_type": "display_data"
    }
   ],
   "source": [
    "colors = [\"yellow\", \"red\"]\n",
    "sns.countplot('label', data=df_samp, palette=colors)\n",
    "plt.title('분류\\n (0:평균이하, 1:평균이상)', fontsize=14)"
   ]
  },
  {
   "cell_type": "code",
   "execution_count": 9,
   "metadata": {},
   "outputs": [],
   "source": [
    "from sklearn.model_selection import train_test_split\n",
    "\n",
    "X_train, X_test, y_train, y_test = train_test_split(X,y,test_size=0.2, stratify=y,random_state=10)"
   ]
  },
  {
   "cell_type": "code",
   "execution_count": 10,
   "metadata": {},
   "outputs": [],
   "source": [
    "from keras.models import Sequential\n",
    "from keras.layers import Dense\n",
    "\n",
    "model = Sequential()\n",
    "model.add(Dense(32, input_shape = (len(X_train.columns),),activation='relu'))\n",
    "model.add(Dense(1,activation='sigmoid'))\n",
    "model.compile(loss = 'mse', optimizer='adam', metrics=['accuracy'])"
   ]
  },
  {
   "cell_type": "code",
   "execution_count": 11,
   "metadata": {},
   "outputs": [
    {
     "data": {
      "text/plain": [
       "<AxesSubplot:>"
      ]
     },
     "execution_count": 11,
     "metadata": {},
     "output_type": "execute_result"
    },
    {
     "data": {
      "image/png": "[encoded data removed]",
      "text/plain": [
       "<Figure size 432x288 with 1 Axes>"
      ]
     },
     "metadata": {
      "needs_background": "light"
     },
     "output_type": "display_data"
    }
   ],
   "source": [
    "pd.DataFrame(X_train).boxplot()"
   ]
  },
  {
   "cell_type": "code",
   "execution_count": 12,
   "metadata": {},
   "outputs": [
    {
     "data": {
      "image/png": "[encoded data removed]",
      "text/plain": [
       "<Figure size 432x288 with 1 Axes>"
      ]
     },
     "metadata": {
      "needs_background": "light"
     },
     "output_type": "display_data"
    }
   ],
   "source": [
    "from sklearn.preprocessing import StandardScaler\n",
    "scaler = StandardScaler()\n",
    "scaler.fit(X_train)\n",
    "X_train_scaled = scaler.transform(X_train)\n",
    "X_test_scaled = scaler.transform(X_test)\n",
    "\n",
    "pd.DataFrame(X_train_scaled).boxplot()\n",
    "\n",
    "X_train_scaled = pd.DataFrame(X_train_scaled)\n",
    "X_test_scaled = pd.DataFrame(X_test_scaled)"
   ]
  },
  {
   "cell_type": "code",
   "execution_count": 13,
   "metadata": {},
   "outputs": [
    {
     "name": "stdout",
     "output_type": "stream",
     "text": [
      "Epoch 1/50\n",
      "238/238 [==============================] - 4s 7ms/step - loss: 0.1496 - accuracy: 0.7798 - val_loss: 0.1157 - val_accuracy: 0.8320\n",
      "Epoch 2/50\n",
      "238/238 [==============================] - 1s 6ms/step - loss: 0.1138 - accuracy: 0.8359 - val_loss: 0.1113 - val_accuracy: 0.8397\n",
      "Epoch 3/50\n",
      "238/238 [==============================] - 1s 6ms/step - loss: 0.1110 - accuracy: 0.8403 - val_loss: 0.1094 - val_accuracy: 0.8430\n",
      "Epoch 4/50\n",
      "238/238 [==============================] - 2s 6ms/step - loss: 0.1094 - accuracy: 0.8430 - val_loss: 0.1080 - val_accuracy: 0.8457\n",
      "Epoch 5/50\n",
      "238/238 [==============================] - 1s 6ms/step - loss: 0.1082 - accuracy: 0.8445 - val_loss: 0.1071 - val_accuracy: 0.8480\n",
      "Epoch 6/50\n",
      "238/238 [==============================] - 1s 6ms/step - loss: 0.1075 - accuracy: 0.8465 - val_loss: 0.1067 - val_accuracy: 0.8480\n",
      "Epoch 7/50\n",
      "238/238 [==============================] - 1s 6ms/step - loss: 0.1070 - accuracy: 0.8473 - val_loss: 0.1062 - val_accuracy: 0.8486\n",
      "Epoch 8/50\n",
      "238/238 [==============================] - 1s 6ms/step - loss: 0.1066 - accuracy: 0.8482 - val_loss: 0.1060 - val_accuracy: 0.8482\n",
      "Epoch 9/50\n",
      "238/238 [==============================] - 1s 6ms/step - loss: 0.1064 - accuracy: 0.8486 - val_loss: 0.1058 - val_accuracy: 0.8488\n",
      "Epoch 10/50\n",
      "238/238 [==============================] - 1s 5ms/step - loss: 0.1062 - accuracy: 0.8489 - val_loss: 0.1056 - val_accuracy: 0.8498\n",
      "Epoch 11/50\n",
      "238/238 [==============================] - 1s 5ms/step - loss: 0.1061 - accuracy: 0.8488 - val_loss: 0.1058 - val_accuracy: 0.8482\n",
      "Epoch 12/50\n",
      "238/238 [==============================] - 1s 5ms/step - loss: 0.1060 - accuracy: 0.8495 - val_loss: 0.1054 - val_accuracy: 0.8499\n",
      "Epoch 13/50\n",
      "238/238 [==============================] - 1s 5ms/step - loss: 0.1059 - accuracy: 0.8502 - val_loss: 0.1053 - val_accuracy: 0.8504\n",
      "Epoch 14/50\n",
      "238/238 [==============================] - 1s 5ms/step - loss: 0.1057 - accuracy: 0.8497 - val_loss: 0.1052 - val_accuracy: 0.8503\n",
      "Epoch 15/50\n",
      "238/238 [==============================] - 1s 5ms/step - loss: 0.1056 - accuracy: 0.8502 - val_loss: 0.1053 - val_accuracy: 0.8500\n",
      "Epoch 16/50\n",
      "238/238 [==============================] - 1s 5ms/step - loss: 0.1056 - accuracy: 0.8500 - val_loss: 0.1051 - val_accuracy: 0.8504\n",
      "Epoch 17/50\n",
      "238/238 [==============================] - 1s 5ms/step - loss: 0.1055 - accuracy: 0.8499 - val_loss: 0.1051 - val_accuracy: 0.8500\n",
      "Epoch 18/50\n",
      "238/238 [==============================] - 1s 5ms/step - loss: 0.1054 - accuracy: 0.8506 - val_loss: 0.1050 - val_accuracy: 0.8498\n",
      "Epoch 19/50\n",
      "238/238 [==============================] - 1s 5ms/step - loss: 0.1053 - accuracy: 0.8506 - val_loss: 0.1048 - val_accuracy: 0.8519\n",
      "Epoch 20/50\n",
      "238/238 [==============================] - 2s 7ms/step - loss: 0.1053 - accuracy: 0.8507 - val_loss: 0.1048 - val_accuracy: 0.8509\n",
      "Epoch 21/50\n",
      "238/238 [==============================] - 1s 5ms/step - loss: 0.1052 - accuracy: 0.8509 - val_loss: 0.1048 - val_accuracy: 0.8507\n",
      "Epoch 22/50\n",
      "238/238 [==============================] - 1s 5ms/step - loss: 0.1051 - accuracy: 0.8510 - val_loss: 0.1046 - val_accuracy: 0.8508\n",
      "Epoch 23/50\n",
      "238/238 [==============================] - 1s 5ms/step - loss: 0.1051 - accuracy: 0.8509 - val_loss: 0.1046 - val_accuracy: 0.8525\n",
      "Epoch 24/50\n",
      "238/238 [==============================] - 1s 5ms/step - loss: 0.1050 - accuracy: 0.8510 - val_loss: 0.1045 - val_accuracy: 0.8510\n",
      "Epoch 25/50\n",
      "238/238 [==============================] - 1s 5ms/step - loss: 0.1049 - accuracy: 0.8514 - val_loss: 0.1045 - val_accuracy: 0.8495\n",
      "Epoch 26/50\n",
      "238/238 [==============================] - 1s 5ms/step - loss: 0.1049 - accuracy: 0.8509 - val_loss: 0.1044 - val_accuracy: 0.8523\n",
      "Epoch 27/50\n",
      "238/238 [==============================] - 1s 5ms/step - loss: 0.1048 - accuracy: 0.8517 - val_loss: 0.1043 - val_accuracy: 0.8517\n",
      "Epoch 28/50\n",
      "238/238 [==============================] - 1s 5ms/step - loss: 0.1047 - accuracy: 0.8514 - val_loss: 0.1042 - val_accuracy: 0.8512\n",
      "Epoch 29/50\n",
      "238/238 [==============================] - 1s 5ms/step - loss: 0.1047 - accuracy: 0.8518 - val_loss: 0.1041 - val_accuracy: 0.8508\n",
      "Epoch 30/50\n",
      "238/238 [==============================] - 1s 5ms/step - loss: 0.1047 - accuracy: 0.8522 - val_loss: 0.1041 - val_accuracy: 0.8519\n",
      "Epoch 31/50\n",
      "238/238 [==============================] - 1s 5ms/step - loss: 0.1046 - accuracy: 0.8514 - val_loss: 0.1039 - val_accuracy: 0.8516\n",
      "Epoch 32/50\n",
      "238/238 [==============================] - 1s 5ms/step - loss: 0.1045 - accuracy: 0.8517 - val_loss: 0.1040 - val_accuracy: 0.8515\n",
      "Epoch 33/50\n",
      "238/238 [==============================] - 1s 5ms/step - loss: 0.1045 - accuracy: 0.8520 - val_loss: 0.1039 - val_accuracy: 0.8520\n",
      "Epoch 34/50\n",
      "238/238 [==============================] - 1s 5ms/step - loss: 0.1045 - accuracy: 0.8519 - val_loss: 0.1041 - val_accuracy: 0.8525\n",
      "Epoch 35/50\n",
      "238/238 [==============================] - 1s 5ms/step - loss: 0.1045 - accuracy: 0.8524 - val_loss: 0.1037 - val_accuracy: 0.8529\n",
      "Epoch 36/50\n",
      "238/238 [==============================] - 1s 5ms/step - loss: 0.1044 - accuracy: 0.8518 - val_loss: 0.1037 - val_accuracy: 0.8533\n",
      "Epoch 37/50\n",
      "238/238 [==============================] - 1s 5ms/step - loss: 0.1044 - accuracy: 0.8525 - val_loss: 0.1037 - val_accuracy: 0.8527\n",
      "Epoch 38/50\n",
      "238/238 [==============================] - 1s 5ms/step - loss: 0.1044 - accuracy: 0.8520 - val_loss: 0.1036 - val_accuracy: 0.8525\n",
      "Epoch 39/50\n",
      "238/238 [==============================] - 1s 5ms/step - loss: 0.1042 - accuracy: 0.8523 - val_loss: 0.1035 - val_accuracy: 0.8520\n",
      "Epoch 40/50\n",
      "238/238 [==============================] - 1s 5ms/step - loss: 0.1042 - accuracy: 0.8528 - val_loss: 0.1037 - val_accuracy: 0.8526\n",
      "Epoch 41/50\n",
      "238/238 [==============================] - 2s 8ms/step - loss: 0.1042 - accuracy: 0.8527 - val_loss: 0.1037 - val_accuracy: 0.8527\n",
      "Epoch 42/50\n",
      "238/238 [==============================] - 1s 5ms/step - loss: 0.1041 - accuracy: 0.8524 - val_loss: 0.1037 - val_accuracy: 0.8519\n"
     ]
    }
   ],
   "source": [
    "from keras.callbacks import EarlyStopping\n",
    "early_stopping = EarlyStopping(patience=3)\n",
    "hist = model.fit(X_train_scaled, y_train, epochs=50, batch_size=250,validation_split=0.2, callbacks=[early_stopping],verbose=1)"
   ]
  },
  {
   "cell_type": "code",
   "execution_count": 14,
   "metadata": {},
   "outputs": [
    {
     "data": {
      "image/png": "[encoded data removed]",
      "text/plain": [
       "<Figure size 864x576 with 1 Axes>"
      ]
     },
     "metadata": {
      "needs_background": "light"
     },
     "output_type": "display_data"
    }
   ],
   "source": [
    "plt.figure(figsize=(12,8))\n",
    "plt.plot(hist.history['loss'])\n",
    "plt.plot(hist.history['accuracy'])\n",
    "plt.plot(hist.history['val_loss'])\n",
    "plt.plot(hist.history['val_accuracy'])\n",
    "plt.legend(['loss','accuracy','val_loss','val_accuracy'])\n",
    "plt.grid()\n",
    "plt.show()"
   ]
  },
  {
   "cell_type": "code",
   "execution_count": 15,
   "metadata": {},
   "outputs": [
    {
     "name": "stdout",
     "output_type": "stream",
     "text": [
      "train:[0.10404179990291595, 0.8528370261192322]\n",
      "accuracy: 85.28370261192322\n",
      "test[0.10297839343547821, 0.853004515171051]\n",
      "accuracy: 85.3004515171051\n",
      "581/581 [==============================] - 1s 2ms/step\n",
      "[[0.7901501 ]\n",
      " [0.3243561 ]\n",
      " [0.00727703]\n",
      " [0.2936428 ]\n",
      " [0.8617511 ]]\n",
      "581/581 [==============================] - 1s 2ms/step\n",
      "[[1.]\n",
      " [0.]\n",
      " [0.]\n",
      " [0.]\n",
      " [1.]]\n"
     ]
    }
   ],
   "source": [
    "scores = model.evaluate(X_train_scaled, y_train, verbose=0)\n",
    "print('train:'+str(scores)) \n",
    "print(f'{model.metrics_names[1]}: {scores[1]*100}')\n",
    "scores = model.evaluate(X_test_scaled, y_test, verbose=0)\n",
    "print('test'+str(scores))\n",
    "print(f'{model.metrics_names[1]}: {scores[1]*100}')\n",
    "pred=model.predict(X_test_scaled)\n",
    "print(pred[:5])\n",
    "import numpy as np\n",
    "pred=model.predict(X_test_scaled)\n",
    "print(np.round(pred[:5]))"
   ]
  },
  {
   "cell_type": "code",
   "execution_count": null,
   "metadata": {},
   "outputs": [],
   "source": []
  }
 ],
 "metadata": {
  "kernelspec": {
   "display_name": "Python 3.9.12 ('base')",
   "language": "python",
   "name": "python3"
  },
  "language_info": {
   "codemirror_mode": {
    "name": "ipython",
    "version": 3
   },
   "file_extension": ".py",
   "mimetype": "text/x-python",
   "name": "python",
   "nbconvert_exporter": "python",
   "pygments_lexer": "ipython3",
   "version": "3.9.12"
  },
  "orig_nbformat": 4,
  "vscode": {
   "interpreter": {
    "hash": "5179d32cf6ec497baf3f8a3ef987cc77c5d2dc691fdde20a56316522f61a7323"
   }
  }
 },
 "nbformat": 4,
 "nbformat_minor": 2
}
