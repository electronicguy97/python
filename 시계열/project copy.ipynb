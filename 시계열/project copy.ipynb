{
 "cells": [
  {
   "cell_type": "code",
   "execution_count": 13,
   "metadata": {},
   "outputs": [
    {
     "name": "stderr",
     "output_type": "stream",
     "text": [
      "C:\\Users\\tjoeun707\\AppData\\Local\\Temp\\ipykernel_12048\\3398446725.py:2: FutureWarning: The squeeze argument has been deprecated and will be removed in a future version. Append .squeeze(\"columns\") to the call to squeeze.\n",
      "\n",
      "\n",
      "  df = pd.read_csv('d:/data/project/project_GDP.csv', header=0, index_col=0,encoding='CP949', squeeze=True)\n"
     ]
    }
   ],
   "source": [
    "import pandas as pd\n",
    "df = pd.read_csv('d:/data/project/project_GDP.csv', header=0, index_col=0,encoding='CP949', squeeze=True)\n"
   ]
  },
  {
   "cell_type": "code",
   "execution_count": 14,
   "metadata": {},
   "outputs": [
    {
     "name": "stdout",
     "output_type": "stream",
     "text": [
      "        아시아     한국   이스라엘     일본     터키  북아메리카    캐나다    멕시코     미국  남아메리카  \\\n",
      "시점                                                                           \n",
      "1959  False  False  False  False  False  False  False  False  False  False   \n",
      "1960  False  False  False  False  False  False  False  False  False  False   \n",
      "1961  False  False  False  False  False  False  False  False  False  False   \n",
      "1962  False  False  False  False  False  False  False  False  False  False   \n",
      "1963  False  False  False  False  False  False  False  False  False  False   \n",
      "\n",
      "      ...  슬로바키아  슬로베니아    스페인    스웨덴    스위스     영국  오세아니아  오스트레일리아   뉴질랜드  \\\n",
      "시점    ...                                                                    \n",
      "1959  ...  False  False  False  False  False  False  False    False  False   \n",
      "1960  ...   True   True  False  False  False  False  False    False  False   \n",
      "1961  ...   True   True  False  False  False  False  False    False  False   \n",
      "1962  ...   True   True  False  False  False  False  False    False  False   \n",
      "1963  ...   True   True  False  False  False  False  False    False  False   \n",
      "\n",
      "         세계  \n",
      "시점           \n",
      "1959  False  \n",
      "1960  False  \n",
      "1961  False  \n",
      "1962  False  \n",
      "1963  False  \n",
      "\n",
      "[5 rows x 45 columns]\n",
      "NAN개수:326\n"
     ]
    }
   ],
   "source": [
    "df_check = df.isnull()\n",
    "print(df_check.head()) #NAN체크 있으면 true 없으면 False\n",
    "check_for_nan = df.isnull().sum().sum()\n",
    "print('NAN개수:'+str(check_for_nan))#NAN 개수확인"
   ]
  },
  {
   "cell_type": "code",
   "execution_count": 15,
   "metadata": {},
   "outputs": [],
   "source": [
    "df =df.interpolate()"
   ]
  },
  {
   "cell_type": "code",
   "execution_count": 16,
   "metadata": {},
   "outputs": [
    {
     "data": {
      "text/html": [
       "<div>\n",
       "<style scoped>\n",
       "    .dataframe tbody tr th:only-of-type {\n",
       "        vertical-align: middle;\n",
       "    }\n",
       "\n",
       "    .dataframe tbody tr th {\n",
       "        vertical-align: top;\n",
       "    }\n",
       "\n",
       "    .dataframe thead th {\n",
       "        text-align: right;\n",
       "    }\n",
       "</style>\n",
       "<table border=\"1\" class=\"dataframe\">\n",
       "  <thead>\n",
       "    <tr style=\"text-align: right;\">\n",
       "      <th></th>\n",
       "      <th>아시아</th>\n",
       "      <th>한국</th>\n",
       "      <th>이스라엘</th>\n",
       "      <th>일본</th>\n",
       "      <th>터키</th>\n",
       "      <th>북아메리카</th>\n",
       "      <th>캐나다</th>\n",
       "      <th>멕시코</th>\n",
       "      <th>미국</th>\n",
       "      <th>남아메리카</th>\n",
       "      <th>...</th>\n",
       "      <th>슬로바키아</th>\n",
       "      <th>슬로베니아</th>\n",
       "      <th>스페인</th>\n",
       "      <th>스웨덴</th>\n",
       "      <th>스위스</th>\n",
       "      <th>영국</th>\n",
       "      <th>오세아니아</th>\n",
       "      <th>오스트레일리아</th>\n",
       "      <th>뉴질랜드</th>\n",
       "      <th>세계</th>\n",
       "    </tr>\n",
       "    <tr>\n",
       "      <th>시점</th>\n",
       "      <th></th>\n",
       "      <th></th>\n",
       "      <th></th>\n",
       "      <th></th>\n",
       "      <th></th>\n",
       "      <th></th>\n",
       "      <th></th>\n",
       "      <th></th>\n",
       "      <th></th>\n",
       "      <th></th>\n",
       "      <th></th>\n",
       "      <th></th>\n",
       "      <th></th>\n",
       "      <th></th>\n",
       "      <th></th>\n",
       "      <th></th>\n",
       "      <th></th>\n",
       "      <th></th>\n",
       "      <th></th>\n",
       "      <th></th>\n",
       "      <th></th>\n",
       "    </tr>\n",
       "  </thead>\n",
       "  <tbody>\n",
       "    <tr>\n",
       "      <th>1959</th>\n",
       "      <td>0.000000</td>\n",
       "      <td>0</td>\n",
       "      <td>0.0</td>\n",
       "      <td>0.0</td>\n",
       "      <td>0</td>\n",
       "      <td>0.000000</td>\n",
       "      <td>0</td>\n",
       "      <td>0</td>\n",
       "      <td>0</td>\n",
       "      <td>0.000000</td>\n",
       "      <td>...</td>\n",
       "      <td>0.000000</td>\n",
       "      <td>0.000000</td>\n",
       "      <td>0</td>\n",
       "      <td>0</td>\n",
       "      <td>0.0</td>\n",
       "      <td>0</td>\n",
       "      <td>0.0</td>\n",
       "      <td>0</td>\n",
       "      <td>0.0</td>\n",
       "      <td>0.000000</td>\n",
       "    </tr>\n",
       "    <tr>\n",
       "      <th>1960</th>\n",
       "      <td>764.000000</td>\n",
       "      <td>79</td>\n",
       "      <td>1229.0</td>\n",
       "      <td>475.0</td>\n",
       "      <td>509</td>\n",
       "      <td>1870.333333</td>\n",
       "      <td>2259</td>\n",
       "      <td>345</td>\n",
       "      <td>3007</td>\n",
       "      <td>379.000000</td>\n",
       "      <td>...</td>\n",
       "      <td>77.612903</td>\n",
       "      <td>298.055556</td>\n",
       "      <td>396</td>\n",
       "      <td>2114</td>\n",
       "      <td>1787.0</td>\n",
       "      <td>1398</td>\n",
       "      <td>2060.5</td>\n",
       "      <td>1808</td>\n",
       "      <td>2313.0</td>\n",
       "      <td>1155.181481</td>\n",
       "    </tr>\n",
       "    <tr>\n",
       "      <th>1961</th>\n",
       "      <td>791.000000</td>\n",
       "      <td>84</td>\n",
       "      <td>1436.0</td>\n",
       "      <td>569.0</td>\n",
       "      <td>284</td>\n",
       "      <td>1890.000000</td>\n",
       "      <td>2240</td>\n",
       "      <td>363</td>\n",
       "      <td>3067</td>\n",
       "      <td>394.666667</td>\n",
       "      <td>...</td>\n",
       "      <td>155.225806</td>\n",
       "      <td>596.111111</td>\n",
       "      <td>450</td>\n",
       "      <td>2289</td>\n",
       "      <td>1971.0</td>\n",
       "      <td>1472</td>\n",
       "      <td>2109.0</td>\n",
       "      <td>1875</td>\n",
       "      <td>2343.0</td>\n",
       "      <td>1187.140741</td>\n",
       "    </tr>\n",
       "    <tr>\n",
       "      <th>1962</th>\n",
       "      <td>711.333333</td>\n",
       "      <td>90</td>\n",
       "      <td>1095.0</td>\n",
       "      <td>640.0</td>\n",
       "      <td>309</td>\n",
       "      <td>1963.666667</td>\n",
       "      <td>2269</td>\n",
       "      <td>378</td>\n",
       "      <td>3244</td>\n",
       "      <td>421.000000</td>\n",
       "      <td>...</td>\n",
       "      <td>232.838710</td>\n",
       "      <td>894.166667</td>\n",
       "      <td>520</td>\n",
       "      <td>2469</td>\n",
       "      <td>2131.0</td>\n",
       "      <td>1526</td>\n",
       "      <td>2150.5</td>\n",
       "      <td>1852</td>\n",
       "      <td>2449.0</td>\n",
       "      <td>1210.462963</td>\n",
       "    </tr>\n",
       "    <tr>\n",
       "      <th>1963</th>\n",
       "      <td>812.333333</td>\n",
       "      <td>103</td>\n",
       "      <td>1258.0</td>\n",
       "      <td>725.0</td>\n",
       "      <td>351</td>\n",
       "      <td>2052.666667</td>\n",
       "      <td>2374</td>\n",
       "      <td>409</td>\n",
       "      <td>3375</td>\n",
       "      <td>424.333333</td>\n",
       "      <td>...</td>\n",
       "      <td>310.451613</td>\n",
       "      <td>1192.222222</td>\n",
       "      <td>609</td>\n",
       "      <td>2657</td>\n",
       "      <td>2294.0</td>\n",
       "      <td>1613</td>\n",
       "      <td>2293.0</td>\n",
       "      <td>1964</td>\n",
       "      <td>2622.0</td>\n",
       "      <td>1291.466667</td>\n",
       "    </tr>\n",
       "    <tr>\n",
       "      <th>...</th>\n",
       "      <td>...</td>\n",
       "      <td>...</td>\n",
       "      <td>...</td>\n",
       "      <td>...</td>\n",
       "      <td>...</td>\n",
       "      <td>...</td>\n",
       "      <td>...</td>\n",
       "      <td>...</td>\n",
       "      <td>...</td>\n",
       "      <td>...</td>\n",
       "      <td>...</td>\n",
       "      <td>...</td>\n",
       "      <td>...</td>\n",
       "      <td>...</td>\n",
       "      <td>...</td>\n",
       "      <td>...</td>\n",
       "      <td>...</td>\n",
       "      <td>...</td>\n",
       "      <td>...</td>\n",
       "      <td>...</td>\n",
       "      <td>...</td>\n",
       "    </tr>\n",
       "    <tr>\n",
       "      <th>2016</th>\n",
       "      <td>38742.333330</td>\n",
       "      <td>29287</td>\n",
       "      <td>37283.0</td>\n",
       "      <td>38762.0</td>\n",
       "      <td>10895</td>\n",
       "      <td>36360.666670</td>\n",
       "      <td>42316</td>\n",
       "      <td>8745</td>\n",
       "      <td>58021</td>\n",
       "      <td>10545.333330</td>\n",
       "      <td>...</td>\n",
       "      <td>16509.000000</td>\n",
       "      <td>21664.000000</td>\n",
       "      <td>26505</td>\n",
       "      <td>51965</td>\n",
       "      <td>83073.0</td>\n",
       "      <td>41048</td>\n",
       "      <td>45025.5</td>\n",
       "      <td>49971</td>\n",
       "      <td>40080.0</td>\n",
       "      <td>34858.144440</td>\n",
       "    </tr>\n",
       "    <tr>\n",
       "      <th>2017</th>\n",
       "      <td>40352.333330</td>\n",
       "      <td>31605</td>\n",
       "      <td>40475.0</td>\n",
       "      <td>38387.0</td>\n",
       "      <td>10590</td>\n",
       "      <td>38175.666670</td>\n",
       "      <td>45129</td>\n",
       "      <td>9288</td>\n",
       "      <td>60110</td>\n",
       "      <td>11200.666670</td>\n",
       "      <td>...</td>\n",
       "      <td>17504.000000</td>\n",
       "      <td>23455.000000</td>\n",
       "      <td>28101</td>\n",
       "      <td>53792</td>\n",
       "      <td>83352.0</td>\n",
       "      <td>40305</td>\n",
       "      <td>48510.5</td>\n",
       "      <td>54028</td>\n",
       "      <td>42993.0</td>\n",
       "      <td>36865.314810</td>\n",
       "    </tr>\n",
       "    <tr>\n",
       "      <th>2018</th>\n",
       "      <td>41248.666670</td>\n",
       "      <td>33429</td>\n",
       "      <td>41705.0</td>\n",
       "      <td>39159.0</td>\n",
       "      <td>9453</td>\n",
       "      <td>39735.333330</td>\n",
       "      <td>46455</td>\n",
       "      <td>9687</td>\n",
       "      <td>63064</td>\n",
       "      <td>11695.666670</td>\n",
       "      <td>...</td>\n",
       "      <td>19365.000000</td>\n",
       "      <td>26103.000000</td>\n",
       "      <td>30375</td>\n",
       "      <td>54589</td>\n",
       "      <td>86430.0</td>\n",
       "      <td>42993</td>\n",
       "      <td>50330.5</td>\n",
       "      <td>57355</td>\n",
       "      <td>43306.0</td>\n",
       "      <td>38521.188890</td>\n",
       "    </tr>\n",
       "    <tr>\n",
       "      <th>2019</th>\n",
       "      <td>41586.000000</td>\n",
       "      <td>31929</td>\n",
       "      <td>43589.0</td>\n",
       "      <td>40113.0</td>\n",
       "      <td>9127</td>\n",
       "      <td>40517.666670</td>\n",
       "      <td>46327</td>\n",
       "      <td>9946</td>\n",
       "      <td>65280</td>\n",
       "      <td>11279.000000</td>\n",
       "      <td>...</td>\n",
       "      <td>19273.000000</td>\n",
       "      <td>25941.000000</td>\n",
       "      <td>29565</td>\n",
       "      <td>51687</td>\n",
       "      <td>85300.0</td>\n",
       "      <td>42354</td>\n",
       "      <td>48528.0</td>\n",
       "      <td>55057</td>\n",
       "      <td>41999.0</td>\n",
       "      <td>36766.466670</td>\n",
       "    </tr>\n",
       "    <tr>\n",
       "      <th>2020</th>\n",
       "      <td>27928.666670</td>\n",
       "      <td>31637</td>\n",
       "      <td>43611.0</td>\n",
       "      <td>40113.0</td>\n",
       "      <td>8538</td>\n",
       "      <td>38377.666670</td>\n",
       "      <td>43242</td>\n",
       "      <td>8347</td>\n",
       "      <td>63544</td>\n",
       "      <td>10214.000000</td>\n",
       "      <td>...</td>\n",
       "      <td>19157.000000</td>\n",
       "      <td>25180.000000</td>\n",
       "      <td>27057</td>\n",
       "      <td>51926</td>\n",
       "      <td>86602.0</td>\n",
       "      <td>40285</td>\n",
       "      <td>46802.0</td>\n",
       "      <td>51812</td>\n",
       "      <td>41792.0</td>\n",
       "      <td>32833.281480</td>\n",
       "    </tr>\n",
       "  </tbody>\n",
       "</table>\n",
       "<p>62 rows × 45 columns</p>\n",
       "</div>"
      ],
      "text/plain": [
       "               아시아     한국     이스라엘       일본     터키         북아메리카    캐나다   멕시코  \\\n",
       "시점                                                                              \n",
       "1959      0.000000      0      0.0      0.0      0      0.000000      0     0   \n",
       "1960    764.000000     79   1229.0    475.0    509   1870.333333   2259   345   \n",
       "1961    791.000000     84   1436.0    569.0    284   1890.000000   2240   363   \n",
       "1962    711.333333     90   1095.0    640.0    309   1963.666667   2269   378   \n",
       "1963    812.333333    103   1258.0    725.0    351   2052.666667   2374   409   \n",
       "...            ...    ...      ...      ...    ...           ...    ...   ...   \n",
       "2016  38742.333330  29287  37283.0  38762.0  10895  36360.666670  42316  8745   \n",
       "2017  40352.333330  31605  40475.0  38387.0  10590  38175.666670  45129  9288   \n",
       "2018  41248.666670  33429  41705.0  39159.0   9453  39735.333330  46455  9687   \n",
       "2019  41586.000000  31929  43589.0  40113.0   9127  40517.666670  46327  9946   \n",
       "2020  27928.666670  31637  43611.0  40113.0   8538  38377.666670  43242  8347   \n",
       "\n",
       "         미국         남아메리카  ...         슬로바키아         슬로베니아    스페인    스웨덴  \\\n",
       "시점                         ...                                             \n",
       "1959      0      0.000000  ...      0.000000      0.000000      0      0   \n",
       "1960   3007    379.000000  ...     77.612903    298.055556    396   2114   \n",
       "1961   3067    394.666667  ...    155.225806    596.111111    450   2289   \n",
       "1962   3244    421.000000  ...    232.838710    894.166667    520   2469   \n",
       "1963   3375    424.333333  ...    310.451613   1192.222222    609   2657   \n",
       "...     ...           ...  ...           ...           ...    ...    ...   \n",
       "2016  58021  10545.333330  ...  16509.000000  21664.000000  26505  51965   \n",
       "2017  60110  11200.666670  ...  17504.000000  23455.000000  28101  53792   \n",
       "2018  63064  11695.666670  ...  19365.000000  26103.000000  30375  54589   \n",
       "2019  65280  11279.000000  ...  19273.000000  25941.000000  29565  51687   \n",
       "2020  63544  10214.000000  ...  19157.000000  25180.000000  27057  51926   \n",
       "\n",
       "          스위스     영국    오세아니아  오스트레일리아     뉴질랜드            세계  \n",
       "시점                                                             \n",
       "1959      0.0      0      0.0        0      0.0      0.000000  \n",
       "1960   1787.0   1398   2060.5     1808   2313.0   1155.181481  \n",
       "1961   1971.0   1472   2109.0     1875   2343.0   1187.140741  \n",
       "1962   2131.0   1526   2150.5     1852   2449.0   1210.462963  \n",
       "1963   2294.0   1613   2293.0     1964   2622.0   1291.466667  \n",
       "...       ...    ...      ...      ...      ...           ...  \n",
       "2016  83073.0  41048  45025.5    49971  40080.0  34858.144440  \n",
       "2017  83352.0  40305  48510.5    54028  42993.0  36865.314810  \n",
       "2018  86430.0  42993  50330.5    57355  43306.0  38521.188890  \n",
       "2019  85300.0  42354  48528.0    55057  41999.0  36766.466670  \n",
       "2020  86602.0  40285  46802.0    51812  41792.0  32833.281480  \n",
       "\n",
       "[62 rows x 45 columns]"
      ]
     },
     "execution_count": 16,
     "metadata": {},
     "output_type": "execute_result"
    }
   ],
   "source": [
    "df"
   ]
  },
  {
   "cell_type": "code",
   "execution_count": 17,
   "metadata": {},
   "outputs": [
    {
     "data": {
      "text/plain": [
       "<AxesSubplot:xlabel='시점'>"
      ]
     },
     "execution_count": 17,
     "metadata": {},
     "output_type": "execute_result"
    },
    {
     "data": {
      "image/png": "[encoded data removed]",
      "text/plain": [
       "<Figure size 432x288 with 1 Axes>"
      ]
     },
     "metadata": {
      "needs_background": "light"
     },
     "output_type": "display_data"
    }
   ],
   "source": [
    "from matplotlib import font_manager, rc\n",
    "font_path = \"C:/Windows/Fonts/NGULIM.TTF\"\n",
    "font = font_manager.FontProperties(fname=font_path).get_name()\n",
    "rc('font', family=font)\n",
    "df['세계'].plot()"
   ]
  },
  {
   "cell_type": "code",
   "execution_count": 18,
   "metadata": {},
   "outputs": [
    {
     "data": {
      "image/png": "[encoded data removed]",
      "text/plain": [
       "<Figure size 432x288 with 1 Axes>"
      ]
     },
     "metadata": {
      "needs_background": "light"
     },
     "output_type": "display_data"
    },
    {
     "data": {
      "image/png": "[encoded data removed]",
      "text/plain": [
       "<Figure size 432x288 with 1 Axes>"
      ]
     },
     "metadata": {
      "needs_background": "light"
     },
     "output_type": "display_data"
    }
   ],
   "source": [
    "import matplotlib.pyplot as plt\n",
    "from statsmodels.graphics.tsaplots import plot_acf, plot_pacf\n",
    "plot_acf(df['세계'])\n",
    "plot_pacf(df['세계'], method='ywm')\n",
    "plt.show()"
   ]
  },
  {
   "cell_type": "code",
   "execution_count": 21,
   "metadata": {},
   "outputs": [
    {
     "ename": "ImportError",
     "evalue": "cannot import name '_centered' from 'scipy.signal.signaltools' (d:\\anaconda\\lib\\site-packages\\scipy\\signal\\signaltools.py)",
     "output_type": "error",
     "traceback": [
      "\u001b[1;31m---------------------------------------------------------------------------\u001b[0m",
      "\u001b[1;31mImportError\u001b[0m                               Traceback (most recent call last)",
      "\u001b[1;32md:\\python\\project\\시계열\\project copy.ipynb 셀 7\u001b[0m in \u001b[0;36m<cell line: 1>\u001b[1;34m()\u001b[0m\n\u001b[1;32m----> <a href='vscode-notebook-cell:/d%3A/python/project/%EC%8B%9C%EA%B3%84%EC%97%B4/project%20copy.ipynb#ch0000005?line=0'>1</a>\u001b[0m \u001b[39mfrom\u001b[39;00m \u001b[39mpmdarima\u001b[39;00m\u001b[39m.\u001b[39;00m\u001b[39marima\u001b[39;00m \u001b[39mimport\u001b[39;00m auto_arima\n\u001b[0;32m      <a href='vscode-notebook-cell:/d%3A/python/project/%EC%8B%9C%EA%B3%84%EC%97%B4/project%20copy.ipynb#ch0000005?line=1'>2</a>\u001b[0m model\u001b[39m=\u001b[39mauto_arima(df[\u001b[39m'\u001b[39m\u001b[39m세계\u001b[39m\u001b[39m'\u001b[39m],suppress_warnings\u001b[39m=\u001b[39m\u001b[39mTrue\u001b[39;00m)\n\u001b[0;32m      <a href='vscode-notebook-cell:/d%3A/python/project/%EC%8B%9C%EA%B3%84%EC%97%B4/project%20copy.ipynb#ch0000005?line=2'>3</a>\u001b[0m model\n",
      "File \u001b[1;32md:\\anaconda\\lib\\site-packages\\pmdarima\\__init__.py:52\u001b[0m, in \u001b[0;36m<module>\u001b[1;34m\u001b[0m\n\u001b[0;32m     49\u001b[0m \u001b[39mfrom\u001b[39;00m \u001b[39m.\u001b[39;00m \u001b[39mimport\u001b[39;00m __check_build\n\u001b[0;32m     51\u001b[0m \u001b[39m# Stuff we want at top-level\u001b[39;00m\n\u001b[1;32m---> 52\u001b[0m \u001b[39mfrom\u001b[39;00m \u001b[39m.\u001b[39;00m\u001b[39marima\u001b[39;00m \u001b[39mimport\u001b[39;00m auto_arima, ARIMA, AutoARIMA, StepwiseContext, decompose\n\u001b[0;32m     53\u001b[0m \u001b[39mfrom\u001b[39;00m \u001b[39m.\u001b[39;00m\u001b[39mutils\u001b[39;00m \u001b[39mimport\u001b[39;00m acf, autocorr_plot, c, pacf, plot_acf, plot_pacf, \\\n\u001b[0;32m     54\u001b[0m     tsdisplay\n\u001b[0;32m     55\u001b[0m \u001b[39mfrom\u001b[39;00m \u001b[39m.\u001b[39;00m\u001b[39mutils\u001b[39;00m\u001b[39m.\u001b[39;00m\u001b[39m_show_versions\u001b[39;00m \u001b[39mimport\u001b[39;00m show_versions\n",
      "File \u001b[1;32md:\\anaconda\\lib\\site-packages\\pmdarima\\arima\\__init__.py:6\u001b[0m, in \u001b[0;36m<module>\u001b[1;34m\u001b[0m\n\u001b[0;32m      1\u001b[0m \u001b[39m# -*- coding: utf-8 -*-\u001b[39;00m\n\u001b[0;32m      2\u001b[0m \u001b[39m#\u001b[39;00m\n\u001b[0;32m      3\u001b[0m \u001b[39m# Author: Taylor Smith <taylor.smith@alkaline-ml.com>\u001b[39;00m\n\u001b[0;32m      5\u001b[0m \u001b[39mfrom\u001b[39;00m \u001b[39m.\u001b[39;00m\u001b[39mapprox\u001b[39;00m \u001b[39mimport\u001b[39;00m \u001b[39m*\u001b[39m\n\u001b[1;32m----> 6\u001b[0m \u001b[39mfrom\u001b[39;00m \u001b[39m.\u001b[39;00m\u001b[39marima\u001b[39;00m \u001b[39mimport\u001b[39;00m \u001b[39m*\u001b[39m\n\u001b[0;32m      7\u001b[0m \u001b[39mfrom\u001b[39;00m \u001b[39m.\u001b[39;00m\u001b[39mauto\u001b[39;00m \u001b[39mimport\u001b[39;00m \u001b[39m*\u001b[39m\n\u001b[0;32m      8\u001b[0m \u001b[39mfrom\u001b[39;00m \u001b[39m.\u001b[39;00m\u001b[39mutils\u001b[39;00m \u001b[39mimport\u001b[39;00m \u001b[39m*\u001b[39m\n",
      "File \u001b[1;32md:\\anaconda\\lib\\site-packages\\pmdarima\\arima\\arima.py:10\u001b[0m, in \u001b[0;36m<module>\u001b[1;34m\u001b[0m\n\u001b[0;32m      1\u001b[0m \u001b[39m# -*- coding: utf-8 -*-\u001b[39;00m\n\u001b[0;32m      2\u001b[0m \u001b[39m#\u001b[39;00m\n\u001b[0;32m      3\u001b[0m \u001b[39m# Author: Taylor Smith <taylor.smith@alkaline-ml.com>\u001b[39;00m\n\u001b[0;32m      4\u001b[0m \u001b[39m#\u001b[39;00m\n\u001b[0;32m      5\u001b[0m \u001b[39m# A user-friendly wrapper to the statsmodels ARIMA that mimics the familiar\u001b[39;00m\n\u001b[0;32m      6\u001b[0m \u001b[39m# sklearn interface.\u001b[39;00m\n\u001b[0;32m      8\u001b[0m \u001b[39mfrom\u001b[39;00m \u001b[39msklearn\u001b[39;00m\u001b[39m.\u001b[39;00m\u001b[39mutils\u001b[39;00m\u001b[39m.\u001b[39;00m\u001b[39mvalidation\u001b[39;00m \u001b[39mimport\u001b[39;00m check_array\n\u001b[1;32m---> 10\u001b[0m \u001b[39mfrom\u001b[39;00m \u001b[39mstatsmodels\u001b[39;00m \u001b[39mimport\u001b[39;00m api \u001b[39mas\u001b[39;00m sm\n\u001b[0;32m     12\u001b[0m \u001b[39mfrom\u001b[39;00m \u001b[39mscipy\u001b[39;00m\u001b[39m.\u001b[39;00m\u001b[39mstats\u001b[39;00m \u001b[39mimport\u001b[39;00m gaussian_kde, norm\n\u001b[0;32m     13\u001b[0m \u001b[39mimport\u001b[39;00m \u001b[39mnumpy\u001b[39;00m \u001b[39mas\u001b[39;00m \u001b[39mnp\u001b[39;00m\n",
      "File \u001b[1;32md:\\anaconda\\lib\\site-packages\\statsmodels\\api.py:124\u001b[0m, in \u001b[0;36m<module>\u001b[1;34m\u001b[0m\n\u001b[0;32m    122\u001b[0m \u001b[39mfrom\u001b[39;00m \u001b[39m.\u001b[39;00m\u001b[39mtools\u001b[39;00m\u001b[39m.\u001b[39;00m\u001b[39mtools\u001b[39;00m \u001b[39mimport\u001b[39;00m add_constant, categorical\n\u001b[0;32m    123\u001b[0m \u001b[39mfrom\u001b[39;00m \u001b[39m.\u001b[39;00m\u001b[39mtools\u001b[39;00m\u001b[39m.\u001b[39;00m\u001b[39mweb\u001b[39;00m \u001b[39mimport\u001b[39;00m webdoc\n\u001b[1;32m--> 124\u001b[0m \u001b[39mfrom\u001b[39;00m \u001b[39m.\u001b[39;00m\u001b[39mtsa\u001b[39;00m \u001b[39mimport\u001b[39;00m api \u001b[39mas\u001b[39;00m tsa\n\u001b[0;32m    125\u001b[0m \u001b[39mfrom\u001b[39;00m \u001b[39m.\u001b[39;00m\u001b[39m_version\u001b[39;00m \u001b[39mimport\u001b[39;00m get_versions\n\u001b[0;32m    127\u001b[0m __version__ \u001b[39m=\u001b[39m get_versions()[\u001b[39m\"\u001b[39m\u001b[39mversion\u001b[39m\u001b[39m\"\u001b[39m]\n",
      "File \u001b[1;32md:\\anaconda\\lib\\site-packages\\statsmodels\\tsa\\api.py:74\u001b[0m, in \u001b[0;36m<module>\u001b[1;34m\u001b[0m\n\u001b[0;32m     72\u001b[0m \u001b[39mfrom\u001b[39;00m \u001b[39m.\u001b[39;00m\u001b[39mbase\u001b[39;00m \u001b[39mimport\u001b[39;00m datetools\n\u001b[0;32m     73\u001b[0m \u001b[39mfrom\u001b[39;00m \u001b[39m.\u001b[39;00m\u001b[39mexponential_smoothing\u001b[39;00m\u001b[39m.\u001b[39;00m\u001b[39mets\u001b[39;00m \u001b[39mimport\u001b[39;00m ETSModel\n\u001b[1;32m---> 74\u001b[0m \u001b[39mfrom\u001b[39;00m \u001b[39m.\u001b[39;00m\u001b[39mfilters\u001b[39;00m \u001b[39mimport\u001b[39;00m api \u001b[39mas\u001b[39;00m filters, bk_filter, cf_filter, hp_filter\n\u001b[0;32m     75\u001b[0m \u001b[39mfrom\u001b[39;00m \u001b[39m.\u001b[39;00m\u001b[39mforecasting\u001b[39;00m\u001b[39m.\u001b[39;00m\u001b[39mstl\u001b[39;00m \u001b[39mimport\u001b[39;00m STLForecast\n\u001b[0;32m     76\u001b[0m \u001b[39mfrom\u001b[39;00m \u001b[39m.\u001b[39;00m\u001b[39mholtwinters\u001b[39;00m \u001b[39mimport\u001b[39;00m ExponentialSmoothing, Holt, SimpleExpSmoothing\n",
      "File \u001b[1;32md:\\anaconda\\lib\\site-packages\\statsmodels\\tsa\\filters\\api.py:6\u001b[0m, in \u001b[0;36m<module>\u001b[1;34m\u001b[0m\n\u001b[0;32m      4\u001b[0m \u001b[39mfrom\u001b[39;00m \u001b[39m.\u001b[39;00m\u001b[39mhp_filter\u001b[39;00m \u001b[39mimport\u001b[39;00m hpfilter\n\u001b[0;32m      5\u001b[0m \u001b[39mfrom\u001b[39;00m \u001b[39m.\u001b[39;00m\u001b[39mcf_filter\u001b[39;00m \u001b[39mimport\u001b[39;00m cffilter\n\u001b[1;32m----> 6\u001b[0m \u001b[39mfrom\u001b[39;00m \u001b[39m.\u001b[39;00m\u001b[39mfiltertools\u001b[39;00m \u001b[39mimport\u001b[39;00m miso_lfilter, convolution_filter, recursive_filter\n",
      "File \u001b[1;32md:\\anaconda\\lib\\site-packages\\statsmodels\\tsa\\filters\\filtertools.py:18\u001b[0m, in \u001b[0;36m<module>\u001b[1;34m\u001b[0m\n\u001b[0;32m     16\u001b[0m \u001b[39mimport\u001b[39;00m \u001b[39mscipy\u001b[39;00m\u001b[39m.\u001b[39;00m\u001b[39mfftpack\u001b[39;00m \u001b[39mas\u001b[39;00m \u001b[39mfft\u001b[39;00m\n\u001b[0;32m     17\u001b[0m \u001b[39mfrom\u001b[39;00m \u001b[39mscipy\u001b[39;00m \u001b[39mimport\u001b[39;00m signal\n\u001b[1;32m---> 18\u001b[0m \u001b[39mfrom\u001b[39;00m \u001b[39mscipy\u001b[39;00m\u001b[39m.\u001b[39;00m\u001b[39msignal\u001b[39;00m\u001b[39m.\u001b[39;00m\u001b[39msignaltools\u001b[39;00m \u001b[39mimport\u001b[39;00m _centered \u001b[39mas\u001b[39;00m trim_centered\n\u001b[0;32m     20\u001b[0m \u001b[39mfrom\u001b[39;00m \u001b[39mstatsmodels\u001b[39;00m\u001b[39m.\u001b[39;00m\u001b[39mtools\u001b[39;00m\u001b[39m.\u001b[39;00m\u001b[39mvalidation\u001b[39;00m \u001b[39mimport\u001b[39;00m array_like, PandasWrapper\n\u001b[0;32m     22\u001b[0m \u001b[39mdef\u001b[39;00m \u001b[39m_pad_nans\u001b[39m(x, head\u001b[39m=\u001b[39m\u001b[39mNone\u001b[39;00m, tail\u001b[39m=\u001b[39m\u001b[39mNone\u001b[39;00m):\n",
      "\u001b[1;31mImportError\u001b[0m: cannot import name '_centered' from 'scipy.signal.signaltools' (d:\\anaconda\\lib\\site-packages\\scipy\\signal\\signaltools.py)"
     ]
    }
   ],
   "source": [
    "from pmdarima.arima import auto_arima\n",
    "model=auto_arima(df['세계'],suppress_warnings=True)\n",
    "model"
   ]
  },
  {
   "cell_type": "code",
   "execution_count": null,
   "metadata": {},
   "outputs": [],
   "source": [
    "n=int(df.shape[0]*.8)\n",
    "train=df[:n]\n",
    "test=df[n:]"
   ]
  },
  {
   "cell_type": "code",
   "execution_count": null,
   "metadata": {},
   "outputs": [],
   "source": [
    "import statsmodels.api as sm\n",
    "from statsmodels.tsa.arima_model import ARIMA\n",
    "\n",
    "model = sm.tsa.arima.ARIMA(df['세계'], order=(2,2,1))\n",
    "model_fit = model.fit()\n",
    "print(model_fit.summary())"
   ]
  },
  {
   "cell_type": "code",
   "execution_count": null,
   "metadata": {},
   "outputs": [],
   "source": [
    "plt.figure(figsize=(25, 20))\n",
    "plt.subplot(321)\n",
    "plt.plot(df.iloc[:,0:5])\n",
    "plt.title('아시아')\n",
    "plt.legend(df.iloc[:,0:5])\n",
    "plt.subplot(322)\n",
    "plt.plot(df.iloc[:,5:9])\n",
    "plt.title('북아메리카')\n",
    "plt.legend(df.iloc[:,5:9])\n",
    "plt.subplot(323)\n",
    "plt.plot(df.iloc[:,9:13])\n",
    "plt.title('남아메리카')\n",
    "plt.legend(df.iloc[:,9:13])\n",
    "plt.subplot(324)\n",
    "plt.plot(df.iloc[:,13:-3])\n",
    "plt.title('유럽')\n",
    "plt.legend(df.iloc[:,13:-3])\n",
    "plt.subplot(325)\n",
    "plt.plot(df.iloc[:,-3:])\n",
    "plt.title('오세아니아')\n",
    "plt.legend(df.iloc[:,-3:])"
   ]
  },
  {
   "cell_type": "code",
   "execution_count": null,
   "metadata": {},
   "outputs": [],
   "source": [
    "#차분후\n",
    "diff_1=df.diff(periods=1).iloc[1:]\n",
    "plot_acf(diff_1['세계'])\n",
    "plot_pacf(diff_1['세계'],method='ywm')\n",
    "plt.show()"
   ]
  },
  {
   "cell_type": "code",
   "execution_count": null,
   "metadata": {},
   "outputs": [],
   "source": [
    "from matplotlib import font_manager, rc\n",
    "font_path = \"C:/Windows/Fonts/NGULIM.TTF\"\n",
    "font = font_manager.FontProperties(fname=font_path).get_name()\n",
    "rc('font', family=font)\n",
    "diff_1['세계'].plot()"
   ]
  },
  {
   "cell_type": "code",
   "execution_count": null,
   "metadata": {},
   "outputs": [],
   "source": [
    "from pmdarima.arima import auto_arima\n",
    "model_d=auto_arima(diff_1['세계'],suppress_warnings=True)\n",
    "model_d "
   ]
  },
  {
   "cell_type": "code",
   "execution_count": null,
   "metadata": {},
   "outputs": [],
   "source": [
    "n_d=int(diff_1.shape[0]*.8)\n",
    "train_d=diff_1[:n]\n",
    "test_d=diff_1[n:]"
   ]
  },
  {
   "cell_type": "code",
   "execution_count": null,
   "metadata": {},
   "outputs": [],
   "source": [
    "import statsmodels.api as sm\n",
    "from statsmodels.tsa.arima.model import ARIMA\n",
    "\n",
    "model_d = sm.tsa.arima.ARIMA(diff_1['세계'], order=(2,1,3))\n",
    "model_fit_d = model_d.fit()\n",
    "print(model_fit_d.summary())\n"
   ]
  },
  {
   "cell_type": "code",
   "execution_count": null,
   "metadata": {},
   "outputs": [],
   "source": [
    "model.plot_diagnostics(figsize =(16,8))\n",
    "plt.show()"
   ]
  },
  {
   "cell_type": "code",
   "execution_count": null,
   "metadata": {},
   "outputs": [],
   "source": [
    "plt.figure(figsize=(25, 20))\n",
    "plt.subplot(321)\n",
    "plt.plot(diff_1.iloc[:,0:5])\n",
    "plt.title('아시아')\n",
    "plt.legend(diff_1.iloc[:,0:5])\n",
    "plt.subplot(322)\n",
    "plt.plot(diff_1.iloc[:,5:9])\n",
    "plt.title('북아메리카')\n",
    "plt.legend(diff_1.iloc[:,5:9])\n",
    "plt.subplot(323)\n",
    "plt.plot(diff_1.iloc[:,9:13])\n",
    "plt.title('남아메리카')\n",
    "plt.legend(diff_1.iloc[:,9:13])\n",
    "plt.subplot(324)\n",
    "plt.plot(diff_1.iloc[:,13:-3])\n",
    "plt.title('유럽')\n",
    "plt.legend(diff_1.iloc[:,13:-3])\n",
    "plt.subplot(325)\n",
    "plt.plot(diff_1.iloc[:,-3:])\n",
    "plt.title('오세아니아')\n",
    "plt.legend(diff_1.iloc[:,-3:])"
   ]
  },
  {
   "cell_type": "code",
   "execution_count": null,
   "metadata": {},
   "outputs": [],
   "source": [
    "from statsmodels.tsa.stattools import adfuller \n",
    "import numpy as np \n",
    "diff1=np.log(df['아이슬란드']).diff(periods=1).iloc[2:]\n",
    "result=adfuller(diff1)\n",
    "print(result[1])"
   ]
  },
  {
   "cell_type": "code",
   "execution_count": null,
   "metadata": {},
   "outputs": [],
   "source": [
    "fore=model.forecast(steps=5)\n",
    "print(fore)"
   ]
  },
  {
   "cell_type": "code",
   "execution_count": null,
   "metadata": {},
   "outputs": [],
   "source": [
    "\n",
    "model.plot_predict()\n",
    "plt.show()"
   ]
  },
  {
   "cell_type": "code",
   "execution_count": null,
   "metadata": {},
   "outputs": [],
   "source": [
    "fc,se,conf=model.forecast(steps=len(test))\n",
    "fc_series=pd.Series(fc,index=test.index)\n",
    "lower=pd.Series(conf[:,0],index=test.index)\n",
    "upper=pd.Series(conf[:,1],index=test.index)\n",
    "plt.plot(df['세계'],label='Actuals')\n",
    "plt.plot(fc_series, label='Forecast')\n",
    "plt.fill_between(lower.index, lower, upper, alpha=0.15)\n",
    "plt.title('forecast vs actuals')\n",
    "plt.legend(loc='upper left',fontsize=8)\n",
    "plt.show()"
   ]
  },
  {
   "cell_type": "code",
   "execution_count": null,
   "metadata": {},
   "outputs": [],
   "source": []
  }
 ],
 "metadata": {
  "kernelspec": {
   "display_name": "Python 3.9.12 ('base')",
   "language": "python",
   "name": "python3"
  },
  "language_info": {
   "codemirror_mode": {
    "name": "ipython",
    "version": 3
   },
   "file_extension": ".py",
   "mimetype": "text/x-python",
   "name": "python",
   "nbconvert_exporter": "python",
   "pygments_lexer": "ipython3",
   "version": "3.9.12"
  },
  "orig_nbformat": 4,
  "vscode": {
   "interpreter": {
    "hash": "5179d32cf6ec497baf3f8a3ef987cc77c5d2dc691fdde20a56316522f61a7323"
   }
  }
 },
 "nbformat": 4,
 "nbformat_minor": 2
}
